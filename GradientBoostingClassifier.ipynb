{
 "cells": [
  {
   "cell_type": "code",
   "execution_count": null,
   "metadata": {},
   "outputs": [],
   "source": [
    "import pandas as pd\n",
    "from sklearn.model_selection import train_test_split # Import train_test_split function\n",
    "from sklearn import metrics #Import scikit-learn metrics module for accuracy calculation\n",
    "import subprocess\n",
    "from sklearn import tree\n",
    "from os import system\n",
    "from IPython.display import SVG\n",
    "import pydotplus\n",
    "from IPython.display import Image\n",
    "import matplotlib.pyplot as plt\n",
    "from sklearn.metrics import confusion_matrix\n",
    "from sklearn.metrics import classification_report\n",
    "import numpy as np\n",
    "from sklearn.metrics import roc_auc_score\n",
    "from sklearn.utils import shuffle\n",
    "from sklearn.ensemble import GradientBoostingClassifier\n",
    "from sklearn.ensemble import AdaBoostClassifier\n",
    "from sklearn.ensemble import BaggingClassifier\n",
    "\n",
    "df = pd.read_csv(\"//apps//Selected_File_out_.csv\",usecols=index)\n",
    "\n",
    "X = df.iloc[:,2:29]  #independent columns\n",
    "y = df.iloc[:,-1]    #target column i.e price range\n",
    "\n",
    "X, y = shuffle(X, y)\n",
    "\n",
    "# # Split dataset into training set and test set\n",
    "X_train, X_test, y_train, y_test = train_test_split(X, y, test_size=0.3, random_state=1) # 70% training and 30% test\n",
    "\n",
    "max_depth_array = [2,3,4,5]\n",
    "min_samples_leaf_array = [2,3,4,5,6,7,8]\n",
    "n_estimators_array = [10,20,30,40,50,60,70,80,90,100]\n",
    "\n",
    "# Finding ROC_AUC_SCORE & Confusion Matrix for train and test data with multiple max depths,min_samples_leaf,n_estimators\n",
    "for x in max_depth_array:\n",
    "    for y in max_features_array:\n",
    "        for z in n_estimators_array:\n",
    "            print(x,y,z)\n",
    "            gradientBoosting_classifier = GradientBoostingClassifier(\n",
    "                learning_rate=0.05,\n",
    "                n_estimators=z,\n",
    "                max_depth=x,\n",
    "                random_state=1,\n",
    "                max_features=y)\n",
    "            \n",
    "            gb=gradientBoosting_classifier.fit(X_train, y_train)\n",
    "            \n",
    "            print(\"max_depth,min_samples_leaf,n_estimator,AUC - test data -: \",x,'-',y,'-',z,'-',roc_auc_score(y_test, gb.predict_proba(X_test)[:,1])*100)\n",
    "            print(\"max_depth,min_samples_leaf,n_estimator,AUC - train data : \",x,'-',y,'-',z,'-',roc_auc_score(y_train, gb.predict_proba(X_train)[:,1])*100) \n",
    "            print(\"Confusion Matrix Test: \") \n",
    "            print(confusion_matrix(y_test, y_pred)) \n",
    "\n",
    "            feature_imp = pd.Series(gb.feature_importances_,index=X_train.columns).sort_values(ascending=False)\n",
    "            print('feature_imp')\n",
    "            print(feature_imp)  "
   ]
  }
 ],
 "metadata": {
  "kernelspec": {
   "display_name": "Python 3",
   "language": "python",
   "name": "python3"
  },
  "language_info": {
   "codemirror_mode": {
    "name": "ipython",
    "version": 3
   },
   "file_extension": ".py",
   "mimetype": "text/x-python",
   "name": "python",
   "nbconvert_exporter": "python",
   "pygments_lexer": "ipython3",
   "version": "3.7.0"
  }
 },
 "nbformat": 4,
 "nbformat_minor": 2
}
